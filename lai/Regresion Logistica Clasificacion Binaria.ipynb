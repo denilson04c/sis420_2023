{
 "cells": [
  {
   "cell_type": "code",
   "execution_count": 79,
   "metadata": {},
   "outputs": [],
   "source": [
    "# utilizado para manejos de directorios y rutas\n",
    "import os\n",
    "\n",
    "# Computacion vectorial y cientifica para python\n",
    "import numpy as np\n",
    "\n",
    "# Librerias para graficación (trazado de gráficos)\n",
    "from matplotlib import pyplot\n",
    "from mpl_toolkits.mplot3d import Axes3D  # Necesario para graficar superficies 3D\n",
    "\n",
    "# llama a matplotlib a embeber graficas dentro de los cuadernillos\n",
    "%matplotlib inline"
   ]
  },
  {
   "cell_type": "code",
   "execution_count": 80,
   "metadata": {},
   "outputs": [
    {
     "name": "stdout",
     "output_type": "stream",
     "text": [
      " sqft_living  bedrooms     price\n",
      "------------------------------------\n",
      "        1180         3    221900\n",
      "        2570         3    538000\n",
      "         770         2    180000\n",
      "        1960         4    604000\n",
      "        1680         3    510000\n",
      "        5420         4   1225000\n",
      "        1715         3    257500\n",
      "        1060         3    291850\n",
      "        1780         3    229500\n",
      "        1890         3    323000\n"
     ]
    }
   ],
   "source": [
    "# Cargar datos\n",
    "data = np.genfromtxt(os.path.join('Datasets', 'kc_house_data.csv'), delimiter=',', skip_header=1)\n",
    "\n",
    "# Obtener las columnas necesarias\n",
    "sqft_living = data[:, 5]\n",
    "bedrooms = data[:, 3]\n",
    "y = data[:, 2]\n",
    "m = y.size\n",
    "#sqft_living = data[:, 5]\n",
    "#bedrooms = data[:, 3]\n",
    "#price = data[:, 2]\n",
    "\n",
    "\n",
    "X = np.column_stack((sqft_living, bedrooms))\n",
    "# Imprimir algunos puntos de datos\n",
    "print('{:>12s}{:>10s}{:>10s}'.format('sqft_living', 'bedrooms', 'price'))\n",
    "print('-'*36)\n",
    "for i in range(10):\n",
    "    print('{:12.0f}{:10.0f}{:10.0f}'.format(X[i,0], X[i,1], y[i]))\n",
    "\n",
    "#sqft_living  bedrooms     price\n",
    "#------------------------------------\n",
    "#        1180         3    221900\n",
    "#        2570         3    538000\n",
    "#         770         2    180000\n"
   ]
  },
  {
   "cell_type": "code",
   "execution_count": 81,
   "metadata": {},
   "outputs": [],
   "source": [
    "def  featureNormalize(X):\n",
    "    X_norm = X.copy()\n",
    "    mu = np.zeros(X.shape[1])\n",
    "    sigma = np.zeros(X.shape[1])\n",
    "\n",
    "    mu = np.mean(X, axis = 0)\n",
    "    sigma = np.std(X, axis = 0)\n",
    "    X_norm = (X - mu) / sigma\n",
    "    \n",
    "    return X_norm, mu, sigma"
   ]
  },
  {
   "cell_type": "code",
   "execution_count": 82,
   "metadata": {},
   "outputs": [
    {
     "name": "stdout",
     "output_type": "stream",
     "text": [
      "[[1.18e+03 3.00e+00]\n",
      " [2.57e+03 3.00e+00]\n",
      " [7.70e+02 2.00e+00]\n",
      " ...\n",
      " [1.02e+03 2.00e+00]\n",
      " [1.60e+03 3.00e+00]\n",
      " [1.02e+03 2.00e+00]]\n",
      "Media calculada: [2079.89973627    3.37084162]\n",
      "Desviación estandar calculada: [918.41964938   0.93004031]\n",
      "[[-0.97983502 -0.39873715]\n",
      " [ 0.53363434 -0.39873715]\n",
      " [-1.42625404 -1.47395936]\n",
      " ...\n",
      " [-1.15404732 -1.47395936]\n",
      " [-0.52252773 -0.39873715]\n",
      " [-1.15404732 -1.47395936]]\n"
     ]
    }
   ],
   "source": [
    "# llama featureNormalize con los datos cargados\n",
    "X_norm, mu, sigma = featureNormalize(X)\n",
    "\n",
    "print(X)\n",
    "print('Media calculada:', mu)\n",
    "print('Desviación estandar calculada:', sigma)\n",
    "print(X_norm)"
   ]
  },
  {
   "cell_type": "code",
   "execution_count": 83,
   "metadata": {},
   "outputs": [],
   "source": [
    "# Añade el termino de interseccion a X\n",
    "# (Columna de unos para X0)\n",
    "X = np.concatenate([np.ones((m, 1)), X_norm], axis=1)"
   ]
  },
  {
   "cell_type": "code",
   "execution_count": 84,
   "metadata": {},
   "outputs": [
    {
     "name": "stdout",
     "output_type": "stream",
     "text": [
      "[[ 1.         -0.97983502 -0.39873715]\n",
      " [ 1.          0.53363434 -0.39873715]\n",
      " [ 1.         -1.42625404 -1.47395936]\n",
      " ...\n",
      " [ 1.         -1.15404732 -1.47395936]\n",
      " [ 1.         -0.52252773 -0.39873715]\n",
      " [ 1.         -1.15404732 -1.47395936]]\n"
     ]
    }
   ],
   "source": [
    "print(X)"
   ]
  },
  {
   "attachments": {},
   "cell_type": "markdown",
   "metadata": {},
   "source": [
    "descenso por el gradiente"
   ]
  },
  {
   "cell_type": "code",
   "execution_count": 85,
   "metadata": {},
   "outputs": [],
   "source": [
    "def computeCostMulti(X, y, theta):\n",
    "    # Inicializa algunos valores utiles\n",
    "    m = y.shape[0] # numero de ejemplos de entrenamiento\n",
    "    \n",
    "    J = 0\n",
    "    \n",
    "    h = np.dot(X, theta)\n",
    "    \n",
    "    J = (1/(2 * m)) * np.sum(np.square(np.dot(X, theta) - y))\n",
    "    \n",
    "    return J\n"
   ]
  },
  {
   "cell_type": "code",
   "execution_count": 86,
   "metadata": {},
   "outputs": [],
   "source": [
    "def gradientDescentMulti(X, y, theta, alpha, num_iters):\n",
    "    \n",
    "    # Inicializa algunos valores \n",
    "    m = y.shape[0] # numero de ejemplos de entrenamiento\n",
    "    \n",
    "    # realiza una copia de theta, el cual será acutalizada por el descenso por el gradiente\n",
    "    theta = theta.copy()\n",
    "    \n",
    "    J_history = []\n",
    "    \n",
    "    for i in range(num_iters):\n",
    "        theta = theta - (alpha / m) * (np.dot(X, theta) - y).dot(X)\n",
    "        J_history.append(computeCostMulti(X, y, theta))\n",
    "    \n",
    "    return theta, J_history"
   ]
  },
  {
   "cell_type": "code",
   "execution_count": 87,
   "metadata": {},
   "outputs": [
    {
     "name": "stdout",
     "output_type": "stream",
     "text": [
      "theta calculado por el descenso por el gradiente: [530215.85991459 256740.20712102 -21904.95681083]\n",
      "El precio predecido para una casa de 1650 sq-ft y 3 dormitorios (usando el descenso por el gradiente): $237069\n"
     ]
    },
    {
     "data": {
      "image/png": "[encoded data removed]",
      "text/plain": [
       "<Figure size 640x480 with 1 Axes>"
      ]
     },
     "metadata": {},
     "output_type": "display_data"
    }
   ],
   "source": [
    "# Elegir algun valor para alpha (probar varias alternativas)\n",
    "alpha = 0.001 # alpha = 0.003\n",
    "num_iters = 4000\n",
    "\n",
    "# inicializa theta y ejecuta el descenso por el gradiente\n",
    "theta = np.zeros(3)\n",
    "theta, J_history = gradientDescentMulti(X, y, theta, alpha, num_iters)\n",
    "\n",
    "# Grafica la convergencia del costo\n",
    "pyplot.plot(np.arange(len(J_history)), J_history, lw=2)\n",
    "pyplot.xlabel('Numero de iteraciones')\n",
    "pyplot.ylabel('Costo J')\n",
    "\n",
    "# Muestra los resultados del descenso por el gradiente\n",
    "print('theta calculado por el descenso por el gradiente: {:s}'.format(str(theta)))\n",
    "\n",
    "# Estimar el precio para una casa de 1650 sq-ft, con 3 dormitorios\n",
    "X_array = [1, 1000, 3]\n",
    "X_array[1:3] = (X_array[1:3] - mu) / sigma\n",
    "price = np.dot(X_array, theta)   # Se debe cambiar esto\n",
    "\n",
    "print('El precio predecido para una casa de 1650 sq-ft y 3 dormitorios (usando el descenso por el gradiente): ${:.0f}'.format(price))"
   ]
  },
  {
   "cell_type": "code",
   "execution_count": 88,
   "metadata": {},
   "outputs": [],
   "source": [
    "X_array = [1, 1650, 3]\n",
    "X_array[1:3] = (X_array[1:3] - mu) / sigma"
   ]
  },
  {
   "cell_type": "code",
   "execution_count": 89,
   "metadata": {},
   "outputs": [
    {
     "data": {
      "text/plain": [
       "[1, -0.46808638791504703, -0.3987371485515711]"
      ]
     },
     "execution_count": 89,
     "metadata": {},
     "output_type": "execute_result"
    }
   ],
   "source": [
    "X_array[0:3]"
   ]
  },
  {
   "attachments": {},
   "cell_type": "markdown",
   "metadata": {},
   "source": [
    "calculo de la normal"
   ]
  },
  {
   "cell_type": "code",
   "execution_count": 112,
   "metadata": {},
   "outputs": [
    {
     "name": "stdout",
     "output_type": "stream",
     "text": [
      " sqft_living  bedrooms     price\n",
      "------------------------------------\n",
      "           1      1180    221900\n",
      "           1      2570    538000\n",
      "           1       770    180000\n",
      "           1      1960    604000\n",
      "           1      1680    510000\n",
      "           1      5420   1225000\n",
      "           1      1715    257500\n",
      "           1      1060    291850\n",
      "           1      1780    229500\n",
      "           1      1890    323000\n"
     ]
    }
   ],
   "source": [
    "# Cargar datos\n",
    "data = np.genfromtxt(os.path.join('Datasets', 'kc_house_data.csv'), delimiter=',', skip_header=1)\n",
    "\n",
    "# Obtener las columnas necesarias\n",
    "sqft_living = data[:, 5]\n",
    "bedrooms = data[:, 3]\n",
    "y = data[:, 2]\n",
    "m = y.size\n",
    "#sqft_living = data[:, 5]\n",
    "#bedrooms = data[:, 3]\n",
    "#price = data[:, 2]\n",
    "\n",
    "\n",
    "\n",
    "X = np.column_stack((sqft_living, bedrooms))\n",
    "X = np.concatenate([np.ones((m, 1)), X], axis=1)\n",
    "\n",
    "# Imprimir algunos puntos de datos\n",
    "print('{:>12s}{:>10s}{:>10s}'.format('sqft_living', 'bedrooms', 'price'))\n",
    "print('-'*36)\n",
    "for i in range(10):\n",
    "    print('{:12.0f}{:10.0f}{:10.0f}'.format(X[i,0], X[i,1], y[i]))"
   ]
  },
  {
   "cell_type": "code",
   "execution_count": 97,
   "metadata": {},
   "outputs": [],
   "source": [
    "def normalEqn(X, y):\n",
    "  \n",
    "    theta = np.zeros(X.shape[1])\n",
    "    \n",
    "    theta = np.dot(np.dot(np.linalg.inv(np.dot(X.T,X)),X.T),y)\n",
    "    \n",
    "    return theta"
   ]
  },
  {
   "cell_type": "code",
   "execution_count": 98,
   "metadata": {},
   "outputs": [
    {
     "name": "stdout",
     "output_type": "stream",
     "text": [
      "Theta calculado a partir de la ecuación de la normal: [ 79469.35907477    313.94868588 -57066.75892292]\n",
      "Precio predecido para una cada de superficie de 1650 sq-ft y 3 dormitorios (usando la ecuación de la normal): $426284\n"
     ]
    }
   ],
   "source": [
    "# Calcula los parametros con la ecuación de la normal\n",
    "theta = normalEqn(X, y);\n",
    "\n",
    "# Muestra los resultados optenidos a partir de la aplicación de la ecuación de la normal\n",
    "print('Theta calculado a partir de la ecuación de la normal: {:s}'.format(str(theta)));\n",
    "\n",
    "# Estimar el precio para una casa de superficie de 1650 sq-ft y tres dormitorios\n",
    "\n",
    "X_array = [1, 1650, 3]\n",
    "price = np.dot(X_array, theta) \n",
    "\n",
    "print('Precio predecido para una cada de superficie de 1650 sq-ft y 3 dormitorios (usando la ecuación de la normal): ${:.0f}'.format(price))"
   ]
  }
 ],
 "metadata": {
  "kernelspec": {
   "display_name": "Python 3",
   "language": "python",
   "name": "python3"
  },
  "language_info": {
   "codemirror_mode": {
    "name": "ipython",
    "version": 3
   },
   "file_extension": ".py",
   "mimetype": "text/x-python",
   "name": "python",
   "nbconvert_exporter": "python",
   "pygments_lexer": "ipython3",
   "version": "3.11.3"
  },
  "orig_nbformat": 4
 },
 "nbformat": 4,
 "nbformat_minor": 2
}
